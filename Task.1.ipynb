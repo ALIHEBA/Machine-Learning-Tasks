{
 "cells": [
  {
   "cell_type": "code",
   "execution_count": null,
   "metadata": {},
   "outputs": [],
   "source": [
    "import numpy as np \n",
    "import pandas as pd \n",
    "from sklearn import metrics\n",
    "from matplotlib import pyplot as plt\n"
   ]
  },
  {
   "cell_type": "code",
   "execution_count": null,
   "metadata": {},
   "outputs": [],
   "source": [
    "data = pd.read_csv('C:/Users/hebaa/data.csv',header=None)"
   ]
  },
  {
   "cell_type": "code",
   "execution_count": null,
   "metadata": {},
   "outputs": [],
   "source": [
    "D0 = data.copy();D1 = data.copy();D2 = data.copy();D3 = data.copy();D4 = data.copy();D5 =data.copy();D6 = data.copy();D7 = data.copy();D8 = data.copy();D9 = data.copy()"
   ]
  },
  {
   "cell_type": "code",
   "execution_count": null,
   "metadata": {},
   "outputs": [],
   "source": [
    "datasets = [D0,D1,D2,D3,D4,D5,D6,D7,D8,D9]\n"
   ]
  },
  {
   "cell_type": "code",
   "execution_count": null,
   "metadata": {},
   "outputs": [],
   "source": [
    "for i in range(10):\n",
    "  for j in range(5000):\n",
    "    if datasets[i].at[j,400] == i:\n",
    "      datasets[i].at[j,400] = 1\n",
    "    else:\n",
    "      datasets[i].at[j,400] = 0"
   ]
  },
  {
   "cell_type": "code",
   "execution_count": null,
   "metadata": {},
   "outputs": [],
   "source": [
    "TrainTest_datadict = {}  \n",
    "for i in range(10):\n",
    "  X = datasets[i].iloc[:,:399]\n",
    "  X = X.T\n",
    "  y = datasets[i].iloc[:,-1]\n",
    "  y = np.array([y])\n",
    "  TrainTest_datadict['D'+str(i)] = [X,y]"
   ]
  },
  {
   "cell_type": "code",
   "execution_count": null,
   "metadata": {},
   "outputs": [],
   "source": [
    "itterations = 10000000   #random big value \n",
    "alpha = 0.160 \n",
    "m = 5000\n",
    "cost_values = []\n",
    "trained_parameters = []\n",
    "\n",
    "for trainsets in range(10):\n",
    "  X = TrainTest_datadict['D'+str(trainsets)][0] \n",
    "  y = TrainTest_datadict['D'+str(trainsets)][1]\n",
    "  weights = np.random.randn(1,399)\n",
    "  bias = 0 \n",
    "  costfunc_values = []\n",
    "  k = 0\n",
    "  print('Training for dataset '+str(trainsets))\n",
    "  for i in range(1,itterations+1):\n",
    "    #logistic function\n",
    "    z = np.dot(weights,X) + bias \n",
    "    hypothesis = 1/(1 + np.exp(-z)) \n",
    "#cost function\n",
    "    j = 1/m*(-1*(np.sum(y*np.log(hypothesis) + (1-y)*np.log(1-hypothesis))))\n",
    "    costfunc_values.append(j)\n",
    "    k+=1\n",
    "\n",
    "#gradient decent\n",
    "    dw =  1/m * np.dot(hypothesis-y,X.T)\n",
    "    db =  1/m * np.sum(hypothesis-y)\n",
    "    weights = weights - alpha*dw\n",
    "    bias = bias - alpha*db\n",
    "\n",
    "    #stop training\n",
    "    if i%2000 == 0:\n",
    "      print('running @ ',j)\n",
    "    if i%2 == 0:\n",
    "      if abs(j-costfunc_values[-2])<0.000001:\n",
    "        if abs(j-costfunc_values[-3])<0.000001:\n",
    "          break \n",
    "  cost_values.append(costfunc_values)  \n",
    "  trained_parameters.append([weights,bias])      \n",
    "  print('itteration number:',k)\n",
    "\n",
    "    "
   ]
  },
  {
   "cell_type": "code",
   "execution_count": null,
   "metadata": {},
   "outputs": [],
   "source": [
    "for datasetnum in range(10):\n",
    "  X = TrainTest_datadict['D'+str(datasetnum)][0]\n",
    "  y = TrainTest_datadict['D'+str(datasetnum)][1]\n",
    "  weights = trained_parameters[datasetnum][0]\n",
    "  bias = trained_parameters[datasetnum][1]\n",
    "  correct_predictions = 0 \n",
    "  for i in range(5000):\n",
    "    z = np.dot(weights,X.T.iloc[i,:])+bias\n",
    "    hypothesis = 1/(1 + np.exp(-z))\n",
    "    if np.logical_and(hypothesis >= 0.5,y.T[i,0] == 1):\n",
    "        correct_predictions+=1\n",
    "    if np.logical_and(hypothesis < 0.5,y.T[i,0] == 0):\n",
    "        correct_predictions+=1    \n",
    "  #print(correct_predictions)      \n",
    "  acc = (correct_predictions/5000)*100\n",
    "  print('accuracy for dataset '+str(datasetnum),\" = \",acc)"
   ]
  },
  {
   "cell_type": "code",
   "execution_count": null,
   "metadata": {},
   "outputs": [],
   "source": []
  }
 ],
 "metadata": {
  "kernelspec": {
   "display_name": "Python 3",
   "language": "python",
   "name": "python3"
  },
  "language_info": {
   "codemirror_mode": {
    "name": "ipython",
    "version": 3
   },
   "file_extension": ".py",
   "mimetype": "text/x-python",
   "name": "python",
   "nbconvert_exporter": "python",
   "pygments_lexer": "ipython3",
   "version": "3.8.3"
  }
 },
 "nbformat": 4,
 "nbformat_minor": 4
}
